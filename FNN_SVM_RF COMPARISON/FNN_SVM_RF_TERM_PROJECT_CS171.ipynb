{
  "nbformat": 4,
  "nbformat_minor": 0,
  "metadata": {
    "colab": {
      "provenance": [],
      "include_colab_link": true
    },
    "kernelspec": {
      "name": "python3",
      "display_name": "Python 3"
    },
    "language_info": {
      "name": "python"
    }
  },
  "cells": [
    {
      "cell_type": "markdown",
      "metadata": {
        "id": "view-in-github",
        "colab_type": "text"
      },
      "source": [
        "<a href=\"https://colab.research.google.com/github/troyapaytan/tpportfolio/blob/main/FNN_SVM_RF%20COMPARISON/FNN_SVM_RF_TERM_PROJECT_CS171.ipynb\" target=\"_parent\"><img src=\"https://colab.research.google.com/assets/colab-badge.svg\" alt=\"Open In Colab\"/></a>"
      ]
    },
    {
      "cell_type": "markdown",
      "source": [
        "Marc Jason M. Chan\n",
        "\n",
        "Troy Andrei Paytan"
      ],
      "metadata": {
        "id": "_kqOGaDpbPYV"
      }
    },
    {
      "cell_type": "code",
      "execution_count": null,
      "metadata": {
        "colab": {
          "base_uri": "https://localhost:8080/"
        },
        "id": "tXV4yRUKIBtz",
        "outputId": "f37bc5b1-75c7-49f4-ec31-2b3b1601adfc"
      },
      "outputs": [
        {
          "output_type": "stream",
          "name": "stdout",
          "text": [
            "Drive already mounted at /content/drive; to attempt to forcibly remount, call drive.mount(\"/content/drive\", force_remount=True).\n"
          ]
        }
      ],
      "source": [
        "#Import necessary libraries\n",
        "\n",
        "import os\n",
        "import cv2\n",
        "import dlib\n",
        "import numpy as np\n",
        "import matplotlib.pyplot as plt\n",
        "from PIL import Image\n",
        "import PIL.Image\n",
        "from google.colab import drive\n",
        "from sklearn.model_selection import train_test_split\n",
        "from sklearn.utils import shuffle\n",
        "import os\n",
        "drive.mount('/content/drive')"
      ]
    },
    {
      "cell_type": "markdown",
      "source": [
        "##Step 1 - Dataset Labeling##"
      ],
      "metadata": {
        "id": "zoX7gDy-WqON"
      }
    },
    {
      "cell_type": "markdown",
      "source": [
        "Load the dataset and label each instance with its corresponding emotion class. For example, if an image represents a happy expression, label it as 'happy.' Similarly, label other images with their respective emotion classes."
      ],
      "metadata": {
        "id": "dDCaWzR_V_rG"
      }
    },
    {
      "cell_type": "code",
      "source": [
        "data_dir = \"/content/drive/MyDrive/Module 3 dataset/train\"  # Replace this with the path to your main folder\n",
        "emotion_classes = [\"happy\", \"disgust\", \"fear\", \"surprise\", \"angry\", \"neutral\", \"sad\"]\n",
        "\n",
        "# Initialize lists to hold images and labels\n",
        "images = []\n",
        "labels = []\n",
        "\n",
        "for emotion_class in emotion_classes:\n",
        "    class_dir = os.path.join(data_dir, emotion_class)\n",
        "    for image_file in os.listdir(class_dir):\n",
        "        image_path = os.path.join(class_dir, image_file)\n",
        "        image = Image.open(image_path)\n",
        "        images.append(image)\n",
        "        labels.append(emotion_class)"
      ],
      "metadata": {
        "id": "am0X-UKQJF-P"
      },
      "execution_count": null,
      "outputs": []
    },
    {
      "cell_type": "code",
      "source": [
        "print(\"Number of images:\", len(images))\n",
        "print(\"Number of labels:\", len(labels))\n"
      ],
      "metadata": {
        "colab": {
          "base_uri": "https://localhost:8080/"
        },
        "id": "rcrh6dCDKFsM",
        "outputId": "b2f78f98-0447-40a8-c678-a7916ad73fcb"
      },
      "execution_count": null,
      "outputs": [
        {
          "output_type": "stream",
          "name": "stdout",
          "text": [
            "Number of images: 420\n",
            "Number of labels: 420\n"
          ]
        }
      ]
    },
    {
      "cell_type": "markdown",
      "source": [
        "##Step 2- Feature Extraction##\n",
        "\n",
        "We will use OpenCV's built-in face detector (Haar Cascade) and facial landmark detector to extract the necessary facial features."
      ],
      "metadata": {
        "id": "LOhiiaLgWygh"
      }
    },
    {
      "cell_type": "code",
      "source": [
        "# Load pre-trained face detector and facial landmark detector\n",
        "face_cascade = cv2.CascadeClassifier(cv2.data.haarcascades + 'haarcascade_frontalface_default.xml')\n",
        "landmark_model = \"/content/drive/MyDrive/shape_predictor_68_face_landmarks.dat\"  # Replace this with the path to the facial landmark model\n",
        "\n",
        "# Load the facial landmark detector model\n",
        "predictor = dlib.shape_predictor(landmark_model)\n",
        "\n",
        "# Function to detect facial landmarks\n",
        "def detect_landmarks(image, circle_size=1, circle_color=(0, 0, 255)):\n",
        "    image_copy = image.copy()  # Make a copy of the original image\n",
        "    gray = cv2.cvtColor(image_copy, cv2.COLOR_BGR2GRAY)\n",
        "    faces = face_cascade.detectMultiScale(gray, scaleFactor=1.1, minNeighbors=5, minSize=(30, 30))\n",
        "\n",
        "    for (x, y, w, h) in faces:\n",
        "        face_roi = image_copy[y:y + h, x:x + w]\n",
        "        gray_roi = gray[y:y + h, x:x + w]\n",
        "\n",
        "        # Detect facial landmarks\n",
        "        landmarks = predictor(gray_roi, dlib.rectangle(0, 0, w, h))\n",
        "\n",
        "        # Convert landmarks to numpy array\n",
        "        landmarks_np = np.array([[p.x, p.y] for p in landmarks.parts()])\n",
        "\n",
        "        # Draw facial landmarks on the image copy\n",
        "        for (x, y) in landmarks_np:\n",
        "            cv2.circle(image_copy, (x, y), circle_size, circle_color, -1)\n",
        "\n",
        "    return image_copy\n",
        "\n"
      ],
      "metadata": {
        "id": "28uEaX_heM92"
      },
      "execution_count": null,
      "outputs": []
    },
    {
      "cell_type": "markdown",
      "source": [
        "The purpose of the code above is to load a pre-trained face detection model and a facial landmark detection model. It defines a function called detect_landmarks that takes an input image and detects facial landmarks using the loaded models. The function identifies faces in the image using the face detection model, extracts facial regions of interest, applies the facial landmark detection model to those regions, and then draws circles at the detected landmarks on a copy of the input image. The function returns the modified image with visualized facial landmarks. This code is useful for extracting and visualizing facial landmarks on input images, which is a crucial step in various facial analysis tasks, such as emotion recognition.\n",
        "\n",
        "\n",
        "\n",
        "\n"
      ],
      "metadata": {
        "id": "i7TZTUivb4iq"
      }
    },
    {
      "cell_type": "code",
      "source": [
        "  # Extract and visualize facial landmarks for the first image in the dataset\n",
        "  image_path = \"/content/drive/MyDrive/Module 3 dataset/train/happy/165.jpg\"\n",
        "  image = cv2.imread(image_path)\n",
        "\n",
        "  # Adjust the precision of plotting facial landmarks by modifying circle_size and circle_color\n",
        "  landmarked_image = detect_landmarks(image, circle_size=1, circle_color=(255, 0, 0))\n",
        "\n",
        "  # Display the original image using matplotlib\n",
        "  plt.figure(figsize=(8, 4))\n",
        "  plt.subplot(121)\n",
        "  plt.imshow(cv2.cvtColor(image, cv2.COLOR_BGR2RGB))\n",
        "  plt.title(\"Original Image\")\n",
        "  plt.axis(\"off\")\n",
        "\n",
        "  # Display the image with facial landmarks using matplotlib\n",
        "  plt.subplot(122)\n",
        "  plt.imshow(cv2.cvtColor(landmarked_image, cv2.COLOR_BGR2RGB))\n",
        "  plt.title(\"Image with Facial Landmarks\")\n",
        "  plt.axis(\"off\")\n",
        "\n",
        "  plt.show()\n"
      ],
      "metadata": {
        "colab": {
          "base_uri": "https://localhost:8080/",
          "height": 341
        },
        "id": "5oriiZozfZYh",
        "outputId": "e710fdd3-8581-4413-80a9-fe0e1fabe72a"
      },
      "execution_count": null,
      "outputs": [
        {
          "output_type": "display_data",
          "data": {
            "text/plain": [
              "<Figure size 800x400 with 2 Axes>"
            ],
            "image/png": "[encoded data removed]"
          },
          "metadata": {}
        }
      ]
    },
    {
      "cell_type": "markdown",
      "source": [
        " Facial landmarks was extracted and visualized, specifically for the emotion of \"happy,\" from an image in a dataset. It uses OpenCV to read and process the image, detects facial landmarks using the detect_landmarks function, adjusts the precision of landmark visualization, and then displays both the original image and the image with highlighted facial landmarks side by side.\n",
        "\n",
        "---\n",
        "\n"
      ],
      "metadata": {
        "id": "HAOVioC4X58d"
      }
    },
    {
      "cell_type": "markdown",
      "source": [
        "##Step 3 - Dataset Splitting##\n",
        "\n",
        "Split the dataset into two parts: training and test sets. Use a stratified sampling technique to ensure that each emotion class is proportionally represented in both sets. 75-25 ratio was used for training and testing data"
      ],
      "metadata": {
        "id": "1b39ENAilObq"
      }
    },
    {
      "cell_type": "code",
      "source": [
        "# Split the dataset into training (75%) and test (25%) sets with stratified sampling\n",
        "train_images, test_images, train_labels, test_labels = train_test_split(images, labels, test_size=0.25, random_state=42, stratify=labels)\n",
        "\n",
        "# Print the number of samples in the training and test sets\n",
        "print(\"Number of samples in the training set:\", len(train_images))\n",
        "print(\"Number of samples in the test set:\", len(test_images))\n",
        "\n"
      ],
      "metadata": {
        "id": "VPlHA5RWlXne",
        "colab": {
          "base_uri": "https://localhost:8080/"
        },
        "outputId": "60ec6cb8-8a66-4658-aa40-9336a9134fcb"
      },
      "execution_count": null,
      "outputs": [
        {
          "output_type": "stream",
          "name": "stdout",
          "text": [
            "Number of samples in the training set: 315\n",
            "Number of samples in the test set: 105\n"
          ]
        }
      ]
    },
    {
      "cell_type": "code",
      "source": [
        "def convert_pil_image_to_numpy_array(image):\n",
        "    image_np = np.array(image, dtype=np.uint8)\n",
        "    image_np = cv2.cvtColor(image_np, cv2.COLOR_RGB2BGR)\n",
        "    return image_np\n",
        "\n",
        "images = np.array([convert_pil_image_to_numpy_array(image) for image in train_images])"
      ],
      "metadata": {
        "id": "nztwFEi5S43K"
      },
      "execution_count": null,
      "outputs": []
    },
    {
      "cell_type": "markdown",
      "source": [
        "##Step 4: Model Development"
      ],
      "metadata": {
        "id": "ejIsBws-wwPj"
      }
    },
    {
      "cell_type": "markdown",
      "source": [
        "Before training the models, preprocessing may be needed for the extracted facial landmarks or features and convert them into a suitable format for training the classifiers. Typically, you would flatten the features and create a feature matrix as input for the classifiers"
      ],
      "metadata": {
        "id": "I8OhKWD4VAH4"
      }
    },
    {
      "cell_type": "code",
      "source": [
        "train_features = np.array([np.array(image).flatten() for image in train_images])\n",
        "test_features = np.array([np.array(image).flatten() for image in test_images])\n"
      ],
      "metadata": {
        "id": "8lzJjaK_w08K"
      },
      "execution_count": null,
      "outputs": []
    },
    {
      "cell_type": "markdown",
      "source": [
        "##Train Support Vector Machine (SVM) Classifier##\n",
        "SVM is a powerful classification algorithm that can be effective for image-based tasks. We'll use scikit-learn's SVC class for training."
      ],
      "metadata": {
        "id": "DyOn-UNfUUja"
      }
    },
    {
      "cell_type": "code",
      "source": [
        "from sklearn.svm import SVC\n",
        "\n",
        "# Initialize the SVM classifier\n",
        "svm_classifier = SVC(kernel='linear', C=1.0, random_state=42)\n",
        "\n",
        "# Train the SVM classifier on the training data\n",
        "svm_classifier.fit(train_features, train_labels)\n"
      ],
      "metadata": {
        "colab": {
          "base_uri": "https://localhost:8080/",
          "height": 75
        },
        "id": "uVDw2iEgUhBz",
        "outputId": "4a3e9623-7dd8-49f3-f113-faba74b92ce7"
      },
      "execution_count": null,
      "outputs": [
        {
          "output_type": "execute_result",
          "data": {
            "text/plain": [
              "SVC(kernel='linear', random_state=42)"
            ],
            "text/html": [
              "<style>#sk-container-id-2 {color: black;background-color: white;}#sk-container-id-2 pre{padding: 0;}#sk-container-id-2 div.sk-toggleable {background-color: white;}#sk-container-id-2 label.sk-toggleable__label {cursor: pointer;display: block;width: 100%;margin-bottom: 0;padding: 0.3em;box-sizing: border-box;text-align: center;}#sk-container-id-2 label.sk-toggleable__label-arrow:before {content: \"▸\";float: left;margin-right: 0.25em;color: #696969;}#sk-container-id-2 label.sk-toggleable__label-arrow:hover:before {color: black;}#sk-container-id-2 div.sk-estimator:hover label.sk-toggleable__label-arrow:before {color: black;}#sk-container-id-2 div.sk-toggleable__content {max-height: 0;max-width: 0;overflow: hidden;text-align: left;background-color: #f0f8ff;}#sk-container-id-2 div.sk-toggleable__content pre {margin: 0.2em;color: black;border-radius: 0.25em;background-color: #f0f8ff;}#sk-container-id-2 input.sk-toggleable__control:checked~div.sk-toggleable__content {max-height: 200px;max-width: 100%;overflow: auto;}#sk-container-id-2 input.sk-toggleable__control:checked~label.sk-toggleable__label-arrow:before {content: \"▾\";}#sk-container-id-2 div.sk-estimator input.sk-toggleable__control:checked~label.sk-toggleable__label {background-color: #d4ebff;}#sk-container-id-2 div.sk-label input.sk-toggleable__control:checked~label.sk-toggleable__label {background-color: #d4ebff;}#sk-container-id-2 input.sk-hidden--visually {border: 0;clip: rect(1px 1px 1px 1px);clip: rect(1px, 1px, 1px, 1px);height: 1px;margin: -1px;overflow: hidden;padding: 0;position: absolute;width: 1px;}#sk-container-id-2 div.sk-estimator {font-family: monospace;background-color: #f0f8ff;border: 1px dotted black;border-radius: 0.25em;box-sizing: border-box;margin-bottom: 0.5em;}#sk-container-id-2 div.sk-estimator:hover {background-color: #d4ebff;}#sk-container-id-2 div.sk-parallel-item::after {content: \"\";width: 100%;border-bottom: 1px solid gray;flex-grow: 1;}#sk-container-id-2 div.sk-label:hover label.sk-toggleable__label {background-color: #d4ebff;}#sk-container-id-2 div.sk-serial::before {content: \"\";position: absolute;border-left: 1px solid gray;box-sizing: border-box;top: 0;bottom: 0;left: 50%;z-index: 0;}#sk-container-id-2 div.sk-serial {display: flex;flex-direction: column;align-items: center;background-color: white;padding-right: 0.2em;padding-left: 0.2em;position: relative;}#sk-container-id-2 div.sk-item {position: relative;z-index: 1;}#sk-container-id-2 div.sk-parallel {display: flex;align-items: stretch;justify-content: center;background-color: white;position: relative;}#sk-container-id-2 div.sk-item::before, #sk-container-id-2 div.sk-parallel-item::before {content: \"\";position: absolute;border-left: 1px solid gray;box-sizing: border-box;top: 0;bottom: 0;left: 50%;z-index: -1;}#sk-container-id-2 div.sk-parallel-item {display: flex;flex-direction: column;z-index: 1;position: relative;background-color: white;}#sk-container-id-2 div.sk-parallel-item:first-child::after {align-self: flex-end;width: 50%;}#sk-container-id-2 div.sk-parallel-item:last-child::after {align-self: flex-start;width: 50%;}#sk-container-id-2 div.sk-parallel-item:only-child::after {width: 0;}#sk-container-id-2 div.sk-dashed-wrapped {border: 1px dashed gray;margin: 0 0.4em 0.5em 0.4em;box-sizing: border-box;padding-bottom: 0.4em;background-color: white;}#sk-container-id-2 div.sk-label label {font-family: monospace;font-weight: bold;display: inline-block;line-height: 1.2em;}#sk-container-id-2 div.sk-label-container {text-align: center;}#sk-container-id-2 div.sk-container {/* jupyter's `normalize.less` sets `[hidden] { display: none; }` but bootstrap.min.css set `[hidden] { display: none !important; }` so we also need the `!important` here to be able to override the default hidden behavior on the sphinx rendered scikit-learn.org. See: https://github.com/scikit-learn/scikit-learn/issues/21755 */display: inline-block !important;position: relative;}#sk-container-id-2 div.sk-text-repr-fallback {display: none;}</style><div id=\"sk-container-id-2\" class=\"sk-top-container\"><div class=\"sk-text-repr-fallback\"><pre>SVC(kernel=&#x27;linear&#x27;, random_state=42)</pre><b>In a Jupyter environment, please rerun this cell to show the HTML representation or trust the notebook. <br />On GitHub, the HTML representation is unable to render, please try loading this page with nbviewer.org.</b></div><div class=\"sk-container\" hidden><div class=\"sk-item\"><div class=\"sk-estimator sk-toggleable\"><input class=\"sk-toggleable__control sk-hidden--visually\" id=\"sk-estimator-id-2\" type=\"checkbox\" checked><label for=\"sk-estimator-id-2\" class=\"sk-toggleable__label sk-toggleable__label-arrow\">SVC</label><div class=\"sk-toggleable__content\"><pre>SVC(kernel=&#x27;linear&#x27;, random_state=42)</pre></div></div></div></div></div>"
            ]
          },
          "metadata": {},
          "execution_count": 46
        }
      ]
    },
    {
      "cell_type": "markdown",
      "source": [
        "##Train Random Forest Classifier\n",
        "Random Forest is an ensemble learning method that can handle non-linear relationships between features. We'll use scikit-learn's RandomForestClassifier for training."
      ],
      "metadata": {
        "id": "9H8BAhOgYj7L"
      }
    },
    {
      "cell_type": "code",
      "source": [
        "from sklearn.ensemble import RandomForestClassifier\n",
        "\n",
        "# Initialize the Random Forest classifier\n",
        "rf_classifier = RandomForestClassifier(n_estimators=100, random_state=42)\n",
        "\n",
        "# Train the Random Forest classifier on the training data\n",
        "rf_classifier.fit(train_features, train_labels)\n"
      ],
      "metadata": {
        "colab": {
          "base_uri": "https://localhost:8080/",
          "height": 75
        },
        "id": "-3yw8VBWYkNP",
        "outputId": "b453bf07-32c3-40b7-bfdf-f3ae019f989d"
      },
      "execution_count": null,
      "outputs": [
        {
          "output_type": "execute_result",
          "data": {
            "text/plain": [
              "RandomForestClassifier(random_state=42)"
            ],
            "text/html": [
              "<style>#sk-container-id-3 {color: black;background-color: white;}#sk-container-id-3 pre{padding: 0;}#sk-container-id-3 div.sk-toggleable {background-color: white;}#sk-container-id-3 label.sk-toggleable__label {cursor: pointer;display: block;width: 100%;margin-bottom: 0;padding: 0.3em;box-sizing: border-box;text-align: center;}#sk-container-id-3 label.sk-toggleable__label-arrow:before {content: \"▸\";float: left;margin-right: 0.25em;color: #696969;}#sk-container-id-3 label.sk-toggleable__label-arrow:hover:before {color: black;}#sk-container-id-3 div.sk-estimator:hover label.sk-toggleable__label-arrow:before {color: black;}#sk-container-id-3 div.sk-toggleable__content {max-height: 0;max-width: 0;overflow: hidden;text-align: left;background-color: #f0f8ff;}#sk-container-id-3 div.sk-toggleable__content pre {margin: 0.2em;color: black;border-radius: 0.25em;background-color: #f0f8ff;}#sk-container-id-3 input.sk-toggleable__control:checked~div.sk-toggleable__content {max-height: 200px;max-width: 100%;overflow: auto;}#sk-container-id-3 input.sk-toggleable__control:checked~label.sk-toggleable__label-arrow:before {content: \"▾\";}#sk-container-id-3 div.sk-estimator input.sk-toggleable__control:checked~label.sk-toggleable__label {background-color: #d4ebff;}#sk-container-id-3 div.sk-label input.sk-toggleable__control:checked~label.sk-toggleable__label {background-color: #d4ebff;}#sk-container-id-3 input.sk-hidden--visually {border: 0;clip: rect(1px 1px 1px 1px);clip: rect(1px, 1px, 1px, 1px);height: 1px;margin: -1px;overflow: hidden;padding: 0;position: absolute;width: 1px;}#sk-container-id-3 div.sk-estimator {font-family: monospace;background-color: #f0f8ff;border: 1px dotted black;border-radius: 0.25em;box-sizing: border-box;margin-bottom: 0.5em;}#sk-container-id-3 div.sk-estimator:hover {background-color: #d4ebff;}#sk-container-id-3 div.sk-parallel-item::after {content: \"\";width: 100%;border-bottom: 1px solid gray;flex-grow: 1;}#sk-container-id-3 div.sk-label:hover label.sk-toggleable__label {background-color: #d4ebff;}#sk-container-id-3 div.sk-serial::before {content: \"\";position: absolute;border-left: 1px solid gray;box-sizing: border-box;top: 0;bottom: 0;left: 50%;z-index: 0;}#sk-container-id-3 div.sk-serial {display: flex;flex-direction: column;align-items: center;background-color: white;padding-right: 0.2em;padding-left: 0.2em;position: relative;}#sk-container-id-3 div.sk-item {position: relative;z-index: 1;}#sk-container-id-3 div.sk-parallel {display: flex;align-items: stretch;justify-content: center;background-color: white;position: relative;}#sk-container-id-3 div.sk-item::before, #sk-container-id-3 div.sk-parallel-item::before {content: \"\";position: absolute;border-left: 1px solid gray;box-sizing: border-box;top: 0;bottom: 0;left: 50%;z-index: -1;}#sk-container-id-3 div.sk-parallel-item {display: flex;flex-direction: column;z-index: 1;position: relative;background-color: white;}#sk-container-id-3 div.sk-parallel-item:first-child::after {align-self: flex-end;width: 50%;}#sk-container-id-3 div.sk-parallel-item:last-child::after {align-self: flex-start;width: 50%;}#sk-container-id-3 div.sk-parallel-item:only-child::after {width: 0;}#sk-container-id-3 div.sk-dashed-wrapped {border: 1px dashed gray;margin: 0 0.4em 0.5em 0.4em;box-sizing: border-box;padding-bottom: 0.4em;background-color: white;}#sk-container-id-3 div.sk-label label {font-family: monospace;font-weight: bold;display: inline-block;line-height: 1.2em;}#sk-container-id-3 div.sk-label-container {text-align: center;}#sk-container-id-3 div.sk-container {/* jupyter's `normalize.less` sets `[hidden] { display: none; }` but bootstrap.min.css set `[hidden] { display: none !important; }` so we also need the `!important` here to be able to override the default hidden behavior on the sphinx rendered scikit-learn.org. See: https://github.com/scikit-learn/scikit-learn/issues/21755 */display: inline-block !important;position: relative;}#sk-container-id-3 div.sk-text-repr-fallback {display: none;}</style><div id=\"sk-container-id-3\" class=\"sk-top-container\"><div class=\"sk-text-repr-fallback\"><pre>RandomForestClassifier(random_state=42)</pre><b>In a Jupyter environment, please rerun this cell to show the HTML representation or trust the notebook. <br />On GitHub, the HTML representation is unable to render, please try loading this page with nbviewer.org.</b></div><div class=\"sk-container\" hidden><div class=\"sk-item\"><div class=\"sk-estimator sk-toggleable\"><input class=\"sk-toggleable__control sk-hidden--visually\" id=\"sk-estimator-id-3\" type=\"checkbox\" checked><label for=\"sk-estimator-id-3\" class=\"sk-toggleable__label sk-toggleable__label-arrow\">RandomForestClassifier</label><div class=\"sk-toggleable__content\"><pre>RandomForestClassifier(random_state=42)</pre></div></div></div></div></div>"
            ]
          },
          "metadata": {},
          "execution_count": 48
        }
      ]
    },
    {
      "cell_type": "markdown",
      "source": [
        "##Train Feedforward Neural Network (FNN)\n",
        "\n",
        "A Feedforward Neural Network, also known as a Multilayer Perceptron (MLP), is a type of artificial neural network that consists of an input layer, one or more hidden layers, and an output layer. It can be suitable for small datasets and simpler tasks like emotion recognition from handcrafted features."
      ],
      "metadata": {
        "id": "Tpuvx4Ccaye8"
      }
    },
    {
      "cell_type": "markdown",
      "source": [
        "we use LabelEncoder to convert the string labels into integer-encoded labels. Then, we use OneHotEncoder to one-hot encode the integer-encoded labels. This process ensures that your categorical labels are transformed into a suitable format for training the FNN."
      ],
      "metadata": {
        "id": "VUfx1yRjZywc"
      }
    },
    {
      "cell_type": "code",
      "source": [
        "from sklearn.preprocessing import LabelEncoder, OneHotEncoder\n",
        "\n",
        "# Encode the labels into integers using LabelEncoder\n",
        "label_encoder = LabelEncoder()\n",
        "train_labels_encoded = label_encoder.fit_transform(train_labels)\n",
        "test_labels_encoded = label_encoder.transform(test_labels)\n",
        "\n",
        "# One-hot encode the integer labels using OneHotEncoder\n",
        "onehot_encoder = OneHotEncoder(sparse=False)\n",
        "train_labels_one_hot = onehot_encoder.fit_transform(train_labels_encoded.reshape(-1, 1))\n",
        "test_labels_one_hot = onehot_encoder.transform(test_labels_encoded.reshape(-1, 1))\n",
        "\n",
        "# Now `train_labels_one_hot` and `test_labels_one_hot` are one-hot encoded label matrices\n"
      ],
      "metadata": {
        "colab": {
          "base_uri": "https://localhost:8080/"
        },
        "id": "oiam8USJadai",
        "outputId": "815247cb-5c05-4cae-9d47-4f5d433db2f9"
      },
      "execution_count": null,
      "outputs": [
        {
          "output_type": "stream",
          "name": "stderr",
          "text": [
            "/usr/local/lib/python3.10/dist-packages/sklearn/preprocessing/_encoders.py:868: FutureWarning: `sparse` was renamed to `sparse_output` in version 1.2 and will be removed in 1.4. `sparse_output` is ignored unless you leave `sparse` to its default value.\n",
            "  warnings.warn(\n"
          ]
        }
      ]
    },
    {
      "cell_type": "code",
      "source": [
        "from sklearn.neural_network import MLPClassifier\n",
        "from sklearn.preprocessing import StandardScaler\n",
        "\n",
        "# Normalize the features (optional but recommended for FNN)\n",
        "scaler = StandardScaler()\n",
        "train_features_normalized = scaler.fit_transform(train_features)\n",
        "test_features_normalized = scaler.transform(test_features)\n",
        "\n",
        "# Initialize the FNN classifier\n",
        "fnn_classifier = MLPClassifier(hidden_layer_sizes=(100, 50), activation='relu', solver='adam', random_state=42)\n",
        "\n",
        "# Train the FNN classifier on the training data\n",
        "fnn_classifier.fit(train_features_normalized, train_labels_one_hot)\n",
        "\n"
      ],
      "metadata": {
        "colab": {
          "base_uri": "https://localhost:8080/",
          "height": 75
        },
        "id": "Yd6gmt2DZzKi",
        "outputId": "52ae8330-d05b-4e99-b13f-e427c9990326"
      },
      "execution_count": null,
      "outputs": [
        {
          "output_type": "execute_result",
          "data": {
            "text/plain": [
              "MLPClassifier(hidden_layer_sizes=(100, 50), random_state=42)"
            ],
            "text/html": [
              "<style>#sk-container-id-4 {color: black;background-color: white;}#sk-container-id-4 pre{padding: 0;}#sk-container-id-4 div.sk-toggleable {background-color: white;}#sk-container-id-4 label.sk-toggleable__label {cursor: pointer;display: block;width: 100%;margin-bottom: 0;padding: 0.3em;box-sizing: border-box;text-align: center;}#sk-container-id-4 label.sk-toggleable__label-arrow:before {content: \"▸\";float: left;margin-right: 0.25em;color: #696969;}#sk-container-id-4 label.sk-toggleable__label-arrow:hover:before {color: black;}#sk-container-id-4 div.sk-estimator:hover label.sk-toggleable__label-arrow:before {color: black;}#sk-container-id-4 div.sk-toggleable__content {max-height: 0;max-width: 0;overflow: hidden;text-align: left;background-color: #f0f8ff;}#sk-container-id-4 div.sk-toggleable__content pre {margin: 0.2em;color: black;border-radius: 0.25em;background-color: #f0f8ff;}#sk-container-id-4 input.sk-toggleable__control:checked~div.sk-toggleable__content {max-height: 200px;max-width: 100%;overflow: auto;}#sk-container-id-4 input.sk-toggleable__control:checked~label.sk-toggleable__label-arrow:before {content: \"▾\";}#sk-container-id-4 div.sk-estimator input.sk-toggleable__control:checked~label.sk-toggleable__label {background-color: #d4ebff;}#sk-container-id-4 div.sk-label input.sk-toggleable__control:checked~label.sk-toggleable__label {background-color: #d4ebff;}#sk-container-id-4 input.sk-hidden--visually {border: 0;clip: rect(1px 1px 1px 1px);clip: rect(1px, 1px, 1px, 1px);height: 1px;margin: -1px;overflow: hidden;padding: 0;position: absolute;width: 1px;}#sk-container-id-4 div.sk-estimator {font-family: monospace;background-color: #f0f8ff;border: 1px dotted black;border-radius: 0.25em;box-sizing: border-box;margin-bottom: 0.5em;}#sk-container-id-4 div.sk-estimator:hover {background-color: #d4ebff;}#sk-container-id-4 div.sk-parallel-item::after {content: \"\";width: 100%;border-bottom: 1px solid gray;flex-grow: 1;}#sk-container-id-4 div.sk-label:hover label.sk-toggleable__label {background-color: #d4ebff;}#sk-container-id-4 div.sk-serial::before {content: \"\";position: absolute;border-left: 1px solid gray;box-sizing: border-box;top: 0;bottom: 0;left: 50%;z-index: 0;}#sk-container-id-4 div.sk-serial {display: flex;flex-direction: column;align-items: center;background-color: white;padding-right: 0.2em;padding-left: 0.2em;position: relative;}#sk-container-id-4 div.sk-item {position: relative;z-index: 1;}#sk-container-id-4 div.sk-parallel {display: flex;align-items: stretch;justify-content: center;background-color: white;position: relative;}#sk-container-id-4 div.sk-item::before, #sk-container-id-4 div.sk-parallel-item::before {content: \"\";position: absolute;border-left: 1px solid gray;box-sizing: border-box;top: 0;bottom: 0;left: 50%;z-index: -1;}#sk-container-id-4 div.sk-parallel-item {display: flex;flex-direction: column;z-index: 1;position: relative;background-color: white;}#sk-container-id-4 div.sk-parallel-item:first-child::after {align-self: flex-end;width: 50%;}#sk-container-id-4 div.sk-parallel-item:last-child::after {align-self: flex-start;width: 50%;}#sk-container-id-4 div.sk-parallel-item:only-child::after {width: 0;}#sk-container-id-4 div.sk-dashed-wrapped {border: 1px dashed gray;margin: 0 0.4em 0.5em 0.4em;box-sizing: border-box;padding-bottom: 0.4em;background-color: white;}#sk-container-id-4 div.sk-label label {font-family: monospace;font-weight: bold;display: inline-block;line-height: 1.2em;}#sk-container-id-4 div.sk-label-container {text-align: center;}#sk-container-id-4 div.sk-container {/* jupyter's `normalize.less` sets `[hidden] { display: none; }` but bootstrap.min.css set `[hidden] { display: none !important; }` so we also need the `!important` here to be able to override the default hidden behavior on the sphinx rendered scikit-learn.org. See: https://github.com/scikit-learn/scikit-learn/issues/21755 */display: inline-block !important;position: relative;}#sk-container-id-4 div.sk-text-repr-fallback {display: none;}</style><div id=\"sk-container-id-4\" class=\"sk-top-container\"><div class=\"sk-text-repr-fallback\"><pre>MLPClassifier(hidden_layer_sizes=(100, 50), random_state=42)</pre><b>In a Jupyter environment, please rerun this cell to show the HTML representation or trust the notebook. <br />On GitHub, the HTML representation is unable to render, please try loading this page with nbviewer.org.</b></div><div class=\"sk-container\" hidden><div class=\"sk-item\"><div class=\"sk-estimator sk-toggleable\"><input class=\"sk-toggleable__control sk-hidden--visually\" id=\"sk-estimator-id-4\" type=\"checkbox\" checked><label for=\"sk-estimator-id-4\" class=\"sk-toggleable__label sk-toggleable__label-arrow\">MLPClassifier</label><div class=\"sk-toggleable__content\"><pre>MLPClassifier(hidden_layer_sizes=(100, 50), random_state=42)</pre></div></div></div></div></div>"
            ]
          },
          "metadata": {},
          "execution_count": 51
        }
      ]
    },
    {
      "cell_type": "markdown",
      "source": [
        "##Step 6: Model Testing\n",
        "\n",
        " We will evaluate the performance of the trained classifiers (SVM, Random Forest, and FNN) on the test set and analyze the results."
      ],
      "metadata": {
        "id": "cSC8hnSwcapi"
      }
    },
    {
      "cell_type": "code",
      "source": [
        "from sklearn.metrics import accuracy_score, classification_report, confusion_matrix,precision_score, recall_score, f1_score\n",
        "import seaborn as sns"
      ],
      "metadata": {
        "id": "XAiWzBoZftup"
      },
      "execution_count": null,
      "outputs": []
    },
    {
      "cell_type": "markdown",
      "source": [
        "Test Support Vector Machine (SVM) Classifier:\n"
      ],
      "metadata": {
        "id": "Df4et7cGcx93"
      }
    },
    {
      "cell_type": "code",
      "source": [
        "# Test Support Vector Machine (SVM) Classifier\n",
        "svm_predictions = svm_classifier.predict(test_features)\n",
        "svm_accuracy = accuracy_score(test_labels, svm_predictions)\n",
        "svm_precision = precision_score(test_labels, svm_predictions, average='weighted')\n",
        "svm_recall = recall_score(test_labels, svm_predictions, average='weighted')\n",
        "svm_f1 = f1_score(test_labels, svm_predictions, average='weighted')\n",
        "svm_conf_matrix = confusion_matrix(test_labels, svm_predictions, labels=emotion_classes)\n",
        "\n",
        "print(\"SVM Accuracy:\", svm_accuracy)\n",
        "print(\"SVM Precision:\", svm_precision)\n",
        "print(\"SVM Recall:\", svm_recall)\n",
        "print(\"SVM F1-score:\", svm_f1)\n",
        "print(\"SVM Confusion Matrix:\")\n",
        "print(svm_conf_matrix)"
      ],
      "metadata": {
        "colab": {
          "base_uri": "https://localhost:8080/"
        },
        "id": "tUO9nKxUc4Oj",
        "outputId": "adf23aaf-e4a6-49cc-f58a-4c2e8d728c0a"
      },
      "execution_count": null,
      "outputs": [
        {
          "output_type": "stream",
          "name": "stdout",
          "text": [
            "SVM Accuracy: 0.23809523809523808\n",
            "SVM Precision: 0.23847933112638994\n",
            "SVM Recall: 0.23809523809523808\n",
            "SVM F1-score: 0.23488050885866957\n",
            "SVM Confusion Matrix:\n",
            "[[4 3 3 1 3 1 0]\n",
            " [1 2 4 0 4 3 1]\n",
            " [3 6 4 2 0 0 0]\n",
            " [3 1 2 4 1 1 3]\n",
            " [2 2 2 1 4 3 1]\n",
            " [1 2 0 0 4 6 2]\n",
            " [2 2 0 3 4 3 1]]\n"
          ]
        }
      ]
    },
    {
      "cell_type": "markdown",
      "source": [
        "Test Random Forest Classifier:"
      ],
      "metadata": {
        "id": "AA2wKG6Ic-ko"
      }
    },
    {
      "cell_type": "code",
      "source": [
        "# Test Random Forest Classifier\n",
        "rf_predictions = rf_classifier.predict(test_features)\n",
        "rf_accuracy = accuracy_score(test_labels, rf_predictions)\n",
        "rf_precision = precision_score(test_labels, rf_predictions, average='weighted')\n",
        "rf_recall = recall_score(test_labels, rf_predictions, average='weighted')\n",
        "rf_f1 = f1_score(test_labels, rf_predictions, average='weighted')\n",
        "rf_conf_matrix = confusion_matrix(test_labels, rf_predictions, labels=emotion_classes)\n",
        "\n",
        "print(\"Random Forest Accuracy:\", rf_accuracy)\n",
        "print(\"Random Forest Precision:\", rf_precision)\n",
        "print(\"Random Forest Recall:\", rf_recall)\n",
        "print(\"Random Forest F1-score:\", rf_f1)\n",
        "print(\"Random Forest Confusion Matrix:\")\n",
        "print(rf_conf_matrix)"
      ],
      "metadata": {
        "colab": {
          "base_uri": "https://localhost:8080/"
        },
        "id": "e7oMglbYdCb_",
        "outputId": "8942ce52-3ac6-4da4-d974-b1f3c8f72c1d"
      },
      "execution_count": null,
      "outputs": [
        {
          "output_type": "stream",
          "name": "stdout",
          "text": [
            "Random Forest Accuracy: 0.18095238095238095\n",
            "Random Forest Precision: 0.1774467362702657\n",
            "Random Forest Recall: 0.18095238095238095\n",
            "Random Forest F1-score: 0.17254554004554004\n",
            "Random Forest Confusion Matrix:\n",
            "[[5 3 2 0 2 2 1]\n",
            " [5 3 2 1 2 1 1]\n",
            " [4 3 1 4 2 0 1]\n",
            " [4 2 1 2 2 1 3]\n",
            " [4 2 1 0 4 1 3]\n",
            " [1 3 1 0 6 3 1]\n",
            " [2 1 1 4 4 2 1]]\n"
          ]
        }
      ]
    },
    {
      "cell_type": "markdown",
      "source": [
        "Test Feedforward Neural Network (FNN) Classifier:"
      ],
      "metadata": {
        "id": "RX0Wc-rddHJ7"
      }
    },
    {
      "cell_type": "code",
      "source": [
        "# Decode one-hot encoded predictions to integer labels\n",
        "fnn_predictions_decoded = np.argmax(fnn_predictions, axis=1)\n",
        "\n",
        "# Test Feedforward Neural Network (FNN) Classifier\n",
        "fnn_accuracy = accuracy_score(test_labels_encoded, fnn_predictions_decoded)\n",
        "fnn_precision = precision_score(test_labels_encoded, fnn_predictions_decoded, average='weighted')\n",
        "fnn_recall = recall_score(test_labels_encoded, fnn_predictions_decoded, average='weighted')\n",
        "fnn_f1 = f1_score(test_labels_encoded, fnn_predictions_decoded, average='weighted')\n",
        "fnn_conf_matrix = confusion_matrix(test_labels_encoded, fnn_predictions_decoded, labels=range(len(emotion_classes)))\n",
        "\n",
        "print(\"FNN Accuracy:\", fnn_accuracy)\n",
        "print(\"FNN Precision:\", fnn_precision)\n",
        "print(\"FNN Recall:\", fnn_recall)\n",
        "print(\"FNN F1-score:\", fnn_f1)\n",
        "print(\"FNN Confusion Matrix:\")\n",
        "print(fnn_conf_matrix)\n"
      ],
      "metadata": {
        "colab": {
          "base_uri": "https://localhost:8080/"
        },
        "id": "Lro-gCpAdKHR",
        "outputId": "ff2d295a-07d1-43dc-9fea-af1f17e85bf9"
      },
      "execution_count": null,
      "outputs": [
        {
          "output_type": "stream",
          "name": "stdout",
          "text": [
            "FNN Accuracy: 0.21904761904761905\n",
            "FNN Precision: 0.3584767240229425\n",
            "FNN Recall: 0.21904761904761905\n",
            "FNN F1-score: 0.2151135718021572\n",
            "FNN Confusion Matrix:\n",
            "[[ 9  2  0  2  0  1  1]\n",
            " [11  2  1  0  0  1  0]\n",
            " [10  2  1  1  0  0  1]\n",
            " [11  1  0  3  0  0  0]\n",
            " [10  0  0  1  3  1  0]\n",
            " [11  1  0  0  1  1  1]\n",
            " [ 6  1  0  2  2  0  4]]\n"
          ]
        }
      ]
    },
    {
      "cell_type": "markdown",
      "source": [
        "**Compare Results and Analyze:**\n",
        "\n",
        "we display the calculated metrics (accuracy, precision, recall, F1-score) and confusion matrices for each classifier: SVM, Random Forest, and FNN. We also determine the best classifier based on the highest accuracy.\n",
        "\n",
        "Now, analyze the results based on these metrics and matrices:\n",
        "\n",
        "**Accuracy:** The accuracy metric tells you how well the classifier performs overall. A higher accuracy is better, but it's important to consider other metrics as well, especially for imbalanced datasets.\n",
        "\n",
        "**Precision:** Precision measures the ratio of correctly predicted positive observations to the total predicted positives. It's a useful metric when false positives are costly.\n",
        "\n",
        "**Recall:** Recall, also known as sensitivity or true positive rate, measures the ratio of correctly predicted positive observations to the all observations in the actual class. It's a useful metric when false negatives are costly.\n",
        "\n",
        "**F1-score:** The F1-score is the harmonic mean of precision and recall. It provides a balance between precision and recall, making it a good metric for imbalanced datasets.\n",
        "\n",
        "**Confusion Matrix:** The confusion matrix gives a detailed view of the classifier's performance for each emotion class. It shows the true positive, true negative, false positive, and false negative predictions for each class."
      ],
      "metadata": {
        "id": "TnsJBqWbdbwx"
      }
    },
    {
      "cell_type": "code",
      "source": [
        "# Compare Results and Analyze\n",
        "print(\"SVM Classifier:\")\n",
        "print(\"Accuracy:\", svm_accuracy)\n",
        "print(\"Precision:\", svm_precision)\n",
        "print(\"Recall:\", svm_recall)\n",
        "print(\"F1-score:\", svm_f1)\n",
        "print(\"Confusion Matrix:\")\n",
        "print(svm_conf_matrix)\n",
        "print()\n",
        "\n",
        "print(\"Random Forest Classifier:\")\n",
        "print(\"Accuracy:\", rf_accuracy)\n",
        "print(\"Precision:\", rf_precision)\n",
        "print(\"Recall:\", rf_recall)\n",
        "print(\"F1-score:\", rf_f1)\n",
        "print(\"Confusion Matrix:\")\n",
        "print(rf_conf_matrix)\n",
        "print()\n",
        "\n",
        "print(\"Feedforward Neural Network (FNN) Classifier:\")\n",
        "print(\"Accuracy:\", fnn_accuracy)\n",
        "print(\"Precision:\", fnn_precision)\n",
        "print(\"Recall:\", fnn_recall)\n",
        "print(\"F1-score:\", fnn_f1)\n",
        "print(\"Confusion Matrix:\")\n",
        "print(fnn_conf_matrix)\n",
        "print()\n",
        "\n",
        "# Compare the accuracies of the classifiers\n",
        "best_accuracy = max(svm_accuracy, rf_accuracy, fnn_accuracy)\n",
        "best_classifier = None\n",
        "\n",
        "if best_accuracy == svm_accuracy:\n",
        "    best_classifier = \"SVM\"\n",
        "elif best_accuracy == rf_accuracy:\n",
        "    best_classifier = \"Random Forest\"\n",
        "else:\n",
        "    best_classifier = \"FNN\"\n",
        "\n",
        "print(\"Best Classifier:\", best_classifier)\n"
      ],
      "metadata": {
        "colab": {
          "base_uri": "https://localhost:8080/"
        },
        "id": "c_LhBH_addHm",
        "outputId": "8002719f-f6dd-41d1-ac10-505afdc477aa"
      },
      "execution_count": null,
      "outputs": [
        {
          "output_type": "stream",
          "name": "stdout",
          "text": [
            "SVM Classifier:\n",
            "Accuracy: 0.23809523809523808\n",
            "Precision: 0.23847933112638994\n",
            "Recall: 0.23809523809523808\n",
            "F1-score: 0.23488050885866957\n",
            "Confusion Matrix:\n",
            "[[4 3 3 1 3 1 0]\n",
            " [1 2 4 0 4 3 1]\n",
            " [3 6 4 2 0 0 0]\n",
            " [3 1 2 4 1 1 3]\n",
            " [2 2 2 1 4 3 1]\n",
            " [1 2 0 0 4 6 2]\n",
            " [2 2 0 3 4 3 1]]\n",
            "\n",
            "Random Forest Classifier:\n",
            "Accuracy: 0.18095238095238095\n",
            "Precision: 0.1774467362702657\n",
            "Recall: 0.18095238095238095\n",
            "F1-score: 0.17254554004554004\n",
            "Confusion Matrix:\n",
            "[[5 3 2 0 2 2 1]\n",
            " [5 3 2 1 2 1 1]\n",
            " [4 3 1 4 2 0 1]\n",
            " [4 2 1 2 2 1 3]\n",
            " [4 2 1 0 4 1 3]\n",
            " [1 3 1 0 6 3 1]\n",
            " [2 1 1 4 4 2 1]]\n",
            "\n",
            "Feedforward Neural Network (FNN) Classifier:\n",
            "Accuracy: 0.21904761904761905\n",
            "Precision: 0.3584767240229425\n",
            "Recall: 0.21904761904761905\n",
            "F1-score: 0.2151135718021572\n",
            "Confusion Matrix:\n",
            "[[ 9  2  0  2  0  1  1]\n",
            " [11  2  1  0  0  1  0]\n",
            " [10  2  1  1  0  0  1]\n",
            " [11  1  0  3  0  0  0]\n",
            " [10  0  0  1  3  1  0]\n",
            " [11  1  0  0  1  1  1]\n",
            " [ 6  1  0  2  2  0  4]]\n",
            "\n",
            "Best Classifier: SVM\n"
          ]
        }
      ]
    },
    {
      "cell_type": "markdown",
      "source": [
        "**Support Vector Machine (SVM) Classifier:**\n",
        "\n",
        ">The SVM classifier achieves an accuracy of approximately 23.81%. Precision, recall, and F1-score are also around the same value. The confusion matrix shows that the classifier has varying performance across different emotion classes. For instance, it has some difficulty distinguishing between emotions in some cases, as evident from non-diagonal values in the confusion matrix.\n",
        "\n",
        "**Random Forest Classifier:**\n",
        ">The Random Forest classifier achieves an accuracy of around 18.10%. The precision, recall, and F1-score are also in a similar range. The confusion matrix suggests that the classifier faces challenges in correctly classifying certain emotions, with higher misclassifications for some classes.\n",
        "\n",
        "**Feedforward Neural Network (FNN) Classifier:**\n",
        ">The FNN classifier achieves an accuracy of about 21.90%. It displays relatively higher precision compared to the other two classifiers, which suggests a better balance between true positives and false positives. However, the recall and F1-score are not significantly better than the other classifiers. The confusion matrix implies that the FNN classifier faces challenges in accurately predicting certain emotion classes.\n",
        "\n",
        "Comparison and Analysis:\n",
        "\n",
        "\n",
        "*   In terms of accuracy, the SVM classifier has the highest accuracy among the three classifiers.\n",
        "*   However, accuracy alone might not provide a complete picture, especially for imbalanced datasets where some emotion classes have fewer samples. This is evident from the confusion matrices, where some classes have more misclassifications than others.\n",
        "\n",
        "* The precision, recall, and F1-score metrics are relatively low for all classifiers, indicating that there is room for improvement in distinguishing between different emotions.\n",
        "* The choice of the best classifier (SVM) is based solely on accuracy in this case. It's important to consider other metrics and the nature of misclassifications when selecting the best classifier for your specific use case.\n",
        "* The results suggest that the dataset might be challenging for the classifiers, possibly due to the limited amount of data or the complexity of distinguishing between certain emotions."
      ],
      "metadata": {
        "id": "Lj78MJFOhQWZ"
      }
    },
    {
      "cell_type": "markdown",
      "source": [
        "**References:**\n",
        "\n",
        "1. https://www.analyticsvidhya.com/blog/2022/10/face-detection-using-haar-cascade-using-python/\n",
        "\n",
        "2. https://github.com/italojs/facial-landmarks-recognition/blob/master/shape_predictor_68_face_landmarks.dat\n",
        "\n",
        "3. https://www.kaggle.com/code/prashant111/svm-classifier-tutorial\n",
        "\n",
        "4. https://www.kaggle.com/code/prashant111/random-forest-classifier-tutorial\n",
        "5. https://www.kaggle.com/code/praanj/basics-of-feed-forward-neural-networks\n"
      ],
      "metadata": {
        "id": "DrPvJRpE2ngB"
      }
    }
  ]
}